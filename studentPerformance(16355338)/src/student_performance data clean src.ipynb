{
  "nbformat": 4,
  "nbformat_minor": 0,
  "metadata": {
    "colab": {
      "provenance": []
    },
    "kernelspec": {
      "name": "python3",
      "display_name": "Python 3"
    },
    "language_info": {
      "name": "python"
    }
  },
  "cells": [
    {
      "cell_type": "code",
      "execution_count": 4,
      "metadata": {
        "colab": {
          "base_uri": "https://localhost:8080/"
        },
        "id": "Djqce99aV0bQ",
        "outputId": "a981aaf6-478e-4429-c2dc-5f85f6c266b7"
      },
      "outputs": [
        {
          "output_type": "stream",
          "name": "stdout",
          "text": [
            "Missing values in the dataset:\n",
            " gender                         0\n",
            "race/ethnicity                 0\n",
            "parental level of education    0\n",
            "lunch                          0\n",
            "test preparation course        0\n",
            "math score                     0\n",
            "reading score                  0\n",
            "writing score                  0\n",
            "dtype: int64\n",
            "Cleaned data saved to /mnt/data/cleaned_students_performance.csv\n"
          ]
        }
      ],
      "source": [
        "import pandas as pd\n",
        "\n",
        "# Load the dataset\n",
        "file_path = '/content/StudentsPerformance (1).csv'\n",
        "df_uploaded = pd.read_csv(file_path)\n",
        "\n",
        "#Check for missing values (if any)\n",
        "missing_values = df_uploaded.isnull().sum()\n",
        "print(\"Missing values in the dataset:\\n\", missing_values)\n",
        "\n",
        "#Remove duplicates\n",
        "df_cleaned = df_uploaded.drop_duplicates()\n",
        "\n",
        "# Ensure correct data types\n",
        "# Ensure numeric columns are integers\n",
        "df_cleaned['math score'] = df_cleaned['math score'].astype(int)\n",
        "df_cleaned['reading score'] = df_cleaned['reading score'].astype(int)\n",
        "df_cleaned['writing score'] = df_cleaned['writing score'].astype(int)\n",
        "\n",
        "# Standardize categorical data (if necessary)\n",
        "df_cleaned['gender'] = df_cleaned['gender'].str.lower().str.strip()  # Standardize gender values\n",
        "df_cleaned['lunch'] = df_cleaned['lunch'].str.lower().str.strip()  # Standardize lunch categories\n",
        "df_cleaned['test preparation course'] = df_cleaned['test preparation course'].str.lower().str.strip()  # Standardize test prep course\n",
        "\n",
        "# Save the cleaned data to a new CSV file\n",
        "!mkdir /mnt/data\n",
        "cleaned_file_path = '/mnt/data/cleaned_students_performance.csv'\n",
        "df_cleaned.to_csv(cleaned_file_path, index=False)\n",
        "\n",
        "print(f\"Cleaned data saved to {cleaned_file_path}\")\n"
      ]
    }
  ]
}