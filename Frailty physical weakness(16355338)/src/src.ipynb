{
  "nbformat": 4,
  "nbformat_minor": 0,
  "metadata": {
    "colab": {
      "provenance": []
    },
    "kernelspec": {
      "name": "python3",
      "display_name": "Python 3"
    },
    "language_info": {
      "name": "python"
    }
  },
  "cells": [
    {
      "cell_type": "code",
      "execution_count": 1,
      "metadata": {
        "colab": {
          "base_uri": "https://localhost:8080/"
        },
        "id": "dEsKhjiyJbAj",
        "outputId": "cf50af38-2087-458a-b716-e4fdf4a9d0c7"
      },
      "outputs": [
        {
          "output_type": "stream",
          "name": "stdout",
          "text": [
            "Missing values before cleaning:\n",
            " Height           0\n",
            "Weight           0\n",
            "Age              0\n",
            "Grip strength    0\n",
            "Frailty          0\n",
            "dtype: int64\n",
            "\n",
            "Cleaned DataFrame:\n",
            "    Height  Weight  Age  Grip strength Frailty\n",
            "0    65.8   112.0   30             30       N\n",
            "1    71.5   136.0   19             31       N\n",
            "2    69.4   153.0   45             29       N\n",
            "3    68.2   142.0   22             28       Y\n",
            "4    67.8   144.0   29             24       Y\n",
            "5    68.7   123.0   50             26       N\n",
            "6    69.8   141.0   51             22       Y\n",
            "7    70.1   136.0   23             20       Y\n",
            "8    67.9   112.0   17             19       N\n",
            "9    66.8   120.0   39             31       N\n"
          ]
        }
      ],
      "source": [
        "import pandas as pd\n",
        "\n",
        "# Data dictionary\n",
        "data = {\n",
        "    'Height': [65.8, 71.5, 69.4, 68.2, 67.8, 68.7, 69.8, 70.1, 67.9, 66.8],\n",
        "    'Weight': [112, 136, 153, 142, 144, 123, 141, 136, 112, 120],\n",
        "    'Age': [30, 19, 45, 22, 29, 50, 51, 23, 17, 39],\n",
        "    'Grip strength': [30, 31, 29, 28, 24, 26, 22, 20, 19, 31],\n",
        "    'Frailty': ['N', 'N', 'N', 'Y', 'Y', 'N', 'Y', 'Y', 'N', 'N']\n",
        "}\n",
        "\n",
        "# Create DataFrame\n",
        "df = pd.DataFrame(data)\n",
        "\n",
        "\n",
        "# Check for missing values\n",
        "print(\"Missing values before cleaning:\\n\", df.isnull().sum())\n",
        "\n",
        "\n",
        "\n",
        "\n",
        "# Remove duplicates if any\n",
        "df.drop_duplicates(inplace=True)\n",
        "\n",
        "# Ensure proper data types\n",
        "df['Height'] = df['Height'].astype(float)  # Convert height to float\n",
        "df['Weight'] = df['Weight'].astype(float)  # Convert weight to float\n",
        "df['Age'] = df['Age'].astype(int)  # Convert age to integer\n",
        "df['Grip strength'] = df['Grip strength'].astype(int)  # Convert grip strength to integer\n",
        "df['Frailty'] = df['Frailty'].astype(str)  # Ensure frailty is string (categorical)\n",
        "\n",
        "# Clean and validate categorical columns (Frailty)\n",
        "df['Frailty'] = df['Frailty'].str.upper()  # Ensure consistency in case (Y/N)\n",
        "df['Frailty'] = df['Frailty'].replace({'Yes': 'Y', 'No': 'N'})  # Replace variations if needed\n",
        "\n",
        "# Display cleaned data\n",
        "print(\"\\nCleaned DataFrame:\\n\", df)\n",
        "\n",
        "\n"
      ]
    }
  ]
}